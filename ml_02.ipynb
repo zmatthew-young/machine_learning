{
 "cells": [
  {
   "cell_type": "code",
   "execution_count": 2,
   "id": "0828b8d2-fea2-413f-91ca-090db9f00217",
   "metadata": {},
   "outputs": [],
   "source": [
    "import pandas as pd\n",
    "import numpy as np\n",
    "import sklearn\n",
    "from sklearn import linear_model\n",
    "from sklearn.utils import shuffle"
   ]
  },
  {
   "cell_type": "code",
   "execution_count": 7,
   "id": "0ee6592a-d8da-42ab-ae5a-464a42b7bbec",
   "metadata": {},
   "outputs": [
    {
     "data": {
      "text/html": [
       "<div>\n",
       "<style scoped>\n",
       "    .dataframe tbody tr th:only-of-type {\n",
       "        vertical-align: middle;\n",
       "    }\n",
       "\n",
       "    .dataframe tbody tr th {\n",
       "        vertical-align: top;\n",
       "    }\n",
       "\n",
       "    .dataframe thead th {\n",
       "        text-align: right;\n",
       "    }\n",
       "</style>\n",
       "<table border=\"1\" class=\"dataframe\">\n",
       "  <thead>\n",
       "    <tr style=\"text-align: right;\">\n",
       "      <th></th>\n",
       "      <th>school</th>\n",
       "      <th>sex</th>\n",
       "      <th>age</th>\n",
       "      <th>address</th>\n",
       "      <th>famsize</th>\n",
       "      <th>Pstatus</th>\n",
       "      <th>Medu</th>\n",
       "      <th>Fedu</th>\n",
       "      <th>Mjob</th>\n",
       "      <th>Fjob</th>\n",
       "      <th>...</th>\n",
       "      <th>famrel</th>\n",
       "      <th>freetime</th>\n",
       "      <th>goout</th>\n",
       "      <th>Dalc</th>\n",
       "      <th>Walc</th>\n",
       "      <th>health</th>\n",
       "      <th>absences</th>\n",
       "      <th>G1</th>\n",
       "      <th>G2</th>\n",
       "      <th>G3</th>\n",
       "    </tr>\n",
       "  </thead>\n",
       "  <tbody>\n",
       "    <tr>\n",
       "      <th>0</th>\n",
       "      <td>GP</td>\n",
       "      <td>F</td>\n",
       "      <td>18</td>\n",
       "      <td>U</td>\n",
       "      <td>GT3</td>\n",
       "      <td>A</td>\n",
       "      <td>4</td>\n",
       "      <td>4</td>\n",
       "      <td>at_home</td>\n",
       "      <td>teacher</td>\n",
       "      <td>...</td>\n",
       "      <td>4</td>\n",
       "      <td>3</td>\n",
       "      <td>4</td>\n",
       "      <td>1</td>\n",
       "      <td>1</td>\n",
       "      <td>3</td>\n",
       "      <td>6</td>\n",
       "      <td>5</td>\n",
       "      <td>6</td>\n",
       "      <td>6</td>\n",
       "    </tr>\n",
       "    <tr>\n",
       "      <th>1</th>\n",
       "      <td>GP</td>\n",
       "      <td>F</td>\n",
       "      <td>17</td>\n",
       "      <td>U</td>\n",
       "      <td>GT3</td>\n",
       "      <td>T</td>\n",
       "      <td>1</td>\n",
       "      <td>1</td>\n",
       "      <td>at_home</td>\n",
       "      <td>other</td>\n",
       "      <td>...</td>\n",
       "      <td>5</td>\n",
       "      <td>3</td>\n",
       "      <td>3</td>\n",
       "      <td>1</td>\n",
       "      <td>1</td>\n",
       "      <td>3</td>\n",
       "      <td>4</td>\n",
       "      <td>5</td>\n",
       "      <td>5</td>\n",
       "      <td>6</td>\n",
       "    </tr>\n",
       "    <tr>\n",
       "      <th>2</th>\n",
       "      <td>GP</td>\n",
       "      <td>F</td>\n",
       "      <td>15</td>\n",
       "      <td>U</td>\n",
       "      <td>LE3</td>\n",
       "      <td>T</td>\n",
       "      <td>1</td>\n",
       "      <td>1</td>\n",
       "      <td>at_home</td>\n",
       "      <td>other</td>\n",
       "      <td>...</td>\n",
       "      <td>4</td>\n",
       "      <td>3</td>\n",
       "      <td>2</td>\n",
       "      <td>2</td>\n",
       "      <td>3</td>\n",
       "      <td>3</td>\n",
       "      <td>10</td>\n",
       "      <td>7</td>\n",
       "      <td>8</td>\n",
       "      <td>10</td>\n",
       "    </tr>\n",
       "    <tr>\n",
       "      <th>3</th>\n",
       "      <td>GP</td>\n",
       "      <td>F</td>\n",
       "      <td>15</td>\n",
       "      <td>U</td>\n",
       "      <td>GT3</td>\n",
       "      <td>T</td>\n",
       "      <td>4</td>\n",
       "      <td>2</td>\n",
       "      <td>health</td>\n",
       "      <td>services</td>\n",
       "      <td>...</td>\n",
       "      <td>3</td>\n",
       "      <td>2</td>\n",
       "      <td>2</td>\n",
       "      <td>1</td>\n",
       "      <td>1</td>\n",
       "      <td>5</td>\n",
       "      <td>2</td>\n",
       "      <td>15</td>\n",
       "      <td>14</td>\n",
       "      <td>15</td>\n",
       "    </tr>\n",
       "    <tr>\n",
       "      <th>4</th>\n",
       "      <td>GP</td>\n",
       "      <td>F</td>\n",
       "      <td>16</td>\n",
       "      <td>U</td>\n",
       "      <td>GT3</td>\n",
       "      <td>T</td>\n",
       "      <td>3</td>\n",
       "      <td>3</td>\n",
       "      <td>other</td>\n",
       "      <td>other</td>\n",
       "      <td>...</td>\n",
       "      <td>4</td>\n",
       "      <td>3</td>\n",
       "      <td>2</td>\n",
       "      <td>1</td>\n",
       "      <td>2</td>\n",
       "      <td>5</td>\n",
       "      <td>4</td>\n",
       "      <td>6</td>\n",
       "      <td>10</td>\n",
       "      <td>10</td>\n",
       "    </tr>\n",
       "  </tbody>\n",
       "</table>\n",
       "<p>5 rows × 33 columns</p>\n",
       "</div>"
      ],
      "text/plain": [
       "  school sex  age address famsize Pstatus  Medu  Fedu     Mjob      Fjob  ...  \\\n",
       "0     GP   F   18       U     GT3       A     4     4  at_home   teacher  ...   \n",
       "1     GP   F   17       U     GT3       T     1     1  at_home     other  ...   \n",
       "2     GP   F   15       U     LE3       T     1     1  at_home     other  ...   \n",
       "3     GP   F   15       U     GT3       T     4     2   health  services  ...   \n",
       "4     GP   F   16       U     GT3       T     3     3    other     other  ...   \n",
       "\n",
       "  famrel freetime  goout  Dalc  Walc health absences  G1  G2  G3  \n",
       "0      4        3      4     1     1      3        6   5   6   6  \n",
       "1      5        3      3     1     1      3        4   5   5   6  \n",
       "2      4        3      2     2     3      3       10   7   8  10  \n",
       "3      3        2      2     1     1      5        2  15  14  15  \n",
       "4      4        3      2     1     2      5        4   6  10  10  \n",
       "\n",
       "[5 rows x 33 columns]"
      ]
     },
     "execution_count": 7,
     "metadata": {},
     "output_type": "execute_result"
    }
   ],
   "source": [
    "df = pd.read_csv(r\"C:\\Users\\zacha\\神州\\data\\csv\\student_math.csv\", sep = ';')\n",
    "df.head()"
   ]
  },
  {
   "cell_type": "code",
   "execution_count": 8,
   "id": "2b75ef0f-1c81-4ba8-af08-feae3d9be1e3",
   "metadata": {},
   "outputs": [
    {
     "data": {
      "text/html": [
       "<div>\n",
       "<style scoped>\n",
       "    .dataframe tbody tr th:only-of-type {\n",
       "        vertical-align: middle;\n",
       "    }\n",
       "\n",
       "    .dataframe tbody tr th {\n",
       "        vertical-align: top;\n",
       "    }\n",
       "\n",
       "    .dataframe thead th {\n",
       "        text-align: right;\n",
       "    }\n",
       "</style>\n",
       "<table border=\"1\" class=\"dataframe\">\n",
       "  <thead>\n",
       "    <tr style=\"text-align: right;\">\n",
       "      <th></th>\n",
       "      <th>G1</th>\n",
       "      <th>G2</th>\n",
       "      <th>G3</th>\n",
       "      <th>studytime</th>\n",
       "      <th>failures</th>\n",
       "      <th>absences</th>\n",
       "    </tr>\n",
       "  </thead>\n",
       "  <tbody>\n",
       "    <tr>\n",
       "      <th>0</th>\n",
       "      <td>5</td>\n",
       "      <td>6</td>\n",
       "      <td>6</td>\n",
       "      <td>2</td>\n",
       "      <td>0</td>\n",
       "      <td>6</td>\n",
       "    </tr>\n",
       "    <tr>\n",
       "      <th>1</th>\n",
       "      <td>5</td>\n",
       "      <td>5</td>\n",
       "      <td>6</td>\n",
       "      <td>2</td>\n",
       "      <td>0</td>\n",
       "      <td>4</td>\n",
       "    </tr>\n",
       "    <tr>\n",
       "      <th>2</th>\n",
       "      <td>7</td>\n",
       "      <td>8</td>\n",
       "      <td>10</td>\n",
       "      <td>2</td>\n",
       "      <td>3</td>\n",
       "      <td>10</td>\n",
       "    </tr>\n",
       "    <tr>\n",
       "      <th>3</th>\n",
       "      <td>15</td>\n",
       "      <td>14</td>\n",
       "      <td>15</td>\n",
       "      <td>3</td>\n",
       "      <td>0</td>\n",
       "      <td>2</td>\n",
       "    </tr>\n",
       "    <tr>\n",
       "      <th>4</th>\n",
       "      <td>6</td>\n",
       "      <td>10</td>\n",
       "      <td>10</td>\n",
       "      <td>2</td>\n",
       "      <td>0</td>\n",
       "      <td>4</td>\n",
       "    </tr>\n",
       "  </tbody>\n",
       "</table>\n",
       "</div>"
      ],
      "text/plain": [
       "   G1  G2  G3  studytime  failures  absences\n",
       "0   5   6   6          2         0         6\n",
       "1   5   5   6          2         0         4\n",
       "2   7   8  10          2         3        10\n",
       "3  15  14  15          3         0         2\n",
       "4   6  10  10          2         0         4"
      ]
     },
     "execution_count": 8,
     "metadata": {},
     "output_type": "execute_result"
    }
   ],
   "source": [
    "df = df[['G1','G2','G3','studytime','failures','absences']]\n",
    "df.head()"
   ]
  },
  {
   "cell_type": "code",
   "execution_count": 12,
   "id": "ca8faafc-72d0-43cd-8209-fcd7f9f14690",
   "metadata": {},
   "outputs": [],
   "source": [
    "predict = 'G3' "
   ]
  },
  {
   "cell_type": "code",
   "execution_count": 14,
   "id": "010c5a89-3430-406c-8b1d-c31427184c64",
   "metadata": {},
   "outputs": [
    {
     "name": "stderr",
     "output_type": "stream",
     "text": [
      "C:\\Users\\zacha\\AppData\\Local\\Temp\\ipykernel_1676\\3572903492.py:1: FutureWarning: In a future version of pandas all arguments of DataFrame.drop except for the argument 'labels' will be keyword-only.\n",
      "  x = np.array(df.drop([predict], 1))\n"
     ]
    }
   ],
   "source": [
    "x = np.array(df.drop([predict], 1))\n",
    "y = np.array(df[predict])"
   ]
  },
  {
   "cell_type": "code",
   "execution_count": 20,
   "id": "d13c720c-4b78-405f-8a66-c06d1ad98c5f",
   "metadata": {},
   "outputs": [],
   "source": [
    "x_train, x_test, y_train, y_test = sklearn.model_selection.train_test_split(x,y, test_size = 0.2)"
   ]
  },
  {
   "cell_type": "code",
   "execution_count": 21,
   "id": "cfe21c33-c740-41f8-a7e1-406fb45d6355",
   "metadata": {},
   "outputs": [],
   "source": [
    "linear = linear_model.LinearRegression()"
   ]
  },
  {
   "cell_type": "code",
   "execution_count": 22,
   "id": "2bea9938-77a5-484c-9722-e6ab523cac43",
   "metadata": {},
   "outputs": [
    {
     "data": {
      "text/plain": [
       "LinearRegression()"
      ]
     },
     "execution_count": 22,
     "metadata": {},
     "output_type": "execute_result"
    }
   ],
   "source": [
    "linear.fit(x_train, y_train)"
   ]
  },
  {
   "cell_type": "code",
   "execution_count": 23,
   "id": "6119c2f3-348e-4b67-a585-1f8d055d8c12",
   "metadata": {},
   "outputs": [
    {
     "name": "stdout",
     "output_type": "stream",
     "text": [
      "0.8449441214483113\n"
     ]
    }
   ],
   "source": [
    "accuracy = linear.score(x_test, y_test)\n",
    "print(accuracy)"
   ]
  },
  {
   "cell_type": "code",
   "execution_count": 24,
   "id": "c71447c9-eaa5-4bbb-90c4-94eb6bf62f61",
   "metadata": {},
   "outputs": [
    {
     "name": "stdout",
     "output_type": "stream",
     "text": [
      "Coefficient: [ 0.14415731  0.96524086 -0.09505785 -0.3737005   0.03027414]\n",
      "Intercept: -1.3427406887218005\n"
     ]
    }
   ],
   "source": [
    "print('Coefficient:', linear.coef_)\n",
    "print('Intercept:', linear.intercept_)"
   ]
  },
  {
   "cell_type": "code",
   "execution_count": 25,
   "id": "f7c61283-be9d-47d5-8c8d-8bb5730f894b",
   "metadata": {},
   "outputs": [],
   "source": [
    "predictions = linear.predict(x_test)"
   ]
  },
  {
   "cell_type": "code",
   "execution_count": 26,
   "id": "f35bd6a4-49be-4547-a6cf-9a2cb3dbf427",
   "metadata": {},
   "outputs": [
    {
     "name": "stdout",
     "output_type": "stream",
     "text": [
      "12.26479230072674 [10 13  2  1  6] 13\n",
      "3.594312500720906 [3 5 2 1 8] 5\n",
      "-1.6085702882029653 [4 0 1 2 0] 0\n",
      "7.3078194445985165 [8 8 3 0 2] 10\n",
      "18.485410225077405 [19 18  3  0  0] 19\n",
      "10.76558138752585 [11 11  1  0  0] 12\n",
      "8.068354702425218 [7 9 3 0 0] 8\n",
      "11.936728987638322 [14 12  2  1  8] 12\n",
      "19.476689808517712 [19 19  4  0  4] 20\n",
      "10.66628811440559 [11 11  3  0  3] 11\n",
      "6.376833638998466 [8 8 1 3 2] 10\n",
      "2.684865098179343 [7 4 1 2 0] 0\n",
      "4.303487160787611 [ 6  5  1  1 14] 5\n",
      "14.880349894353156 [13 15  2  0  2] 16\n",
      "9.731321397830357 [11 10  3  0  4] 11\n",
      "16.361671726743662 [17 16  2  0  0] 17\n",
      "10.731071822883607 [11 11  2  0  2] 11\n",
      "11.938505833980793 [11 12  2  0 10] 13\n",
      "-0.8023978400554738 [7 0 1 1 0] 0\n",
      "12.693801973186842 [16 12  1  0  8] 13\n",
      "16.289511524575015 [15 16  1  0  4] 15\n",
      "9.731158308405831 [ 8 10  1  0 12] 10\n",
      "14.278561849395944 [16 14  4  0  6] 15\n",
      "6.3770881488297535 [8 7 2 0 0] 8\n",
      "14.963958921594372 [14 15  2  0  0] 15\n",
      "10.958838165037582 [13 11  2  0  0] 10\n",
      "5.1610202066951 [5 6 2 0 6] 6\n",
      "9.466067507574506 [10 10  3  0  0] 9\n",
      "12.733550656449738 [10 13  1  0  6] 13\n",
      "10.863617223299268 [10 11  1  0  8] 10\n",
      "3.7845912947730094 [6 5 2 1 0] 0\n",
      "14.989997644623674 [14 15  3  0  4] 16\n",
      "7.8353492416505865 [11  8  2  0  2] 8\n",
      "9.103331540419317 [11  9  2  0 12] 9\n",
      "9.682221935231384 [10 10  2  0  4] 10\n",
      "14.687093116841421 [11 15  1  0  2] 15\n",
      "12.928008571078628 [14 13  3  1 12] 13\n",
      "8.644820872651735 [8 9 1 0 8] 10\n",
      "5.143396025049057 [ 6  6  2  1 13] 8\n",
      "9.561125359888294 [10 10  2  0  0] 10\n",
      "3.6166344416407368 [ 6  5  1  3 16] 5\n",
      "16.278062699502446 [16 16  2  0  2] 16\n",
      "16.278062699502446 [16 16  2  0  2] 17\n",
      "12.673719217076798 [14 12  2  0 20] 13\n",
      "7.97329685011143 [7 9 4 0 0] 0\n",
      "11.647213220695642 [10 12  1  0  2] 12\n",
      "8.405768794849712 [10  9  4  0  0] 0\n",
      "3.1322481402683797 [6 5 1 3 0] 0\n",
      "5.362747825819775 [7 6 1 0 0] 0\n",
      "14.385068526782304 [15 14  2  0  8] 14\n",
      "8.716981074820378 [10  9  2  0  4] 11\n",
      "7.789227762511244 [ 9  8  2  0 10] 8\n",
      "12.203759724236642 [12 12  2  0 14] 12\n",
      "10.347699340744295 [ 9 11  3  0  2] 11\n",
      "12.759013670253724 [15 13  3  2 14] 13\n",
      "12.805710858618381 [12 13  2  0  2] 12\n",
      "13.154573776115447 [14 13  2  0  4] 13\n",
      "4.724994569271874 [8 6 2 2 2] 5\n",
      "10.285927965604358 [13 10  2  1 22] 11\n",
      "14.770702144082637 [12 15  1  0  0] 15\n",
      "8.428666444994857 [8 9 2 0 4] 10\n",
      "11.838693151864902 [15 12  2  1  0] 12\n",
      "6.379811622458095 [ 7  8  2  3 10] 10\n",
      "15.58528913361339 [16 15  2  0 11] 15\n",
      "5.9567818774626495 [ 8  6  2  0 18] 7\n",
      "8.041577180746076 [9 9 1 2 8] 9\n",
      "11.77992171053583 [12 12  2  0  0] 11\n",
      "3.8336907573719827 [7 5 3 1 0] 0\n",
      "9.179344684315694 [ 8  9  1  1 38] 8\n",
      "12.949868173531142 [13 13  2  0  2] 11\n",
      "10.02067407534851 [12 10  2  1 18] 10\n",
      "18.49262362934351 [18 18  3  0  5] 19\n",
      "15.108116236507133 [15 15  2  0  0] 15\n",
      "6.751826699931595 [ 7  7  1  0 14] 5\n",
      "18.64101636506274 [19 18  2  0  2] 18\n",
      "9.777279787545174 [10 10  1  0  4] 10\n",
      "15.312821839091438 [16 15  2  0  2] 15\n",
      "8.561374934835044 [10  9  3  0  2] 8\n",
      "9.212816201265309 [ 9  9  1  0 22] 9\n"
     ]
    }
   ],
   "source": [
    "for x in range (len(predictions)):\n",
    "    print(predictions[x], x_test[x], y_test[x])"
   ]
  }
 ],
 "metadata": {
  "kernelspec": {
   "display_name": "Python 3 (ipykernel)",
   "language": "python",
   "name": "python3"
  },
  "language_info": {
   "codemirror_mode": {
    "name": "ipython",
    "version": 3
   },
   "file_extension": ".py",
   "mimetype": "text/x-python",
   "name": "python",
   "nbconvert_exporter": "python",
   "pygments_lexer": "ipython3",
   "version": "3.9.13"
  }
 },
 "nbformat": 4,
 "nbformat_minor": 5
}
